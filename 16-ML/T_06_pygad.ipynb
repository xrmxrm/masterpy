{
 "cells": [
  {
   "cell_type": "code",
   "execution_count": 3,
   "metadata": {
    "pycharm": {
     "name": "#%%\n"
    }
   },
   "outputs": [
    {
     "name": "stdout",
     "output_type": "stream",
     "text": [
      "Generation 100  2x1, 1x5, 1x10, 2x25, price: $495\n",
      "Generation 200  2x1, 1x5, 1x10, 2x25, price: $495\n",
      "Generation 300  2x1, 1x5, 1x10, 2x25, price: $495\n",
      "Generation 400  2x1, 1x5, 1x10, 2x25, price: $495\n",
      "Generation 500  2x1, 1x5, 1x10, 2x25, price: $495\n",
      "Generation 600  2x1, 1x5, 1x10, 2x25, price: $495\n",
      "Generation 700  2x1, 1x5, 1x10, 2x25, price: $495\n",
      "Generation 800  2x1, 1x5, 1x10, 2x25, price: $495\n",
      "Generation 900  2x1, 1x5, 1x10, 2x25, price: $495\n",
      "Generation 1000  2x1, 1x5, 1x10, 2x25, price: $495\n"
     ]
    },
    {
     "data": {
      "image/png": "[encoded data removed]",
      "text/plain": [
       "<Figure size 432x288 with 1 Axes>"
      ]
     },
     "metadata": {
      "needs_background": "light"
     },
     "output_type": "display_data"
    },
    {
     "data": {
      "image/png": "[encoded data removed]",
      "text/plain": [
       "<Figure size 432x288 with 1 Axes>"
      ]
     },
     "execution_count": 3,
     "metadata": {},
     "output_type": "execute_result"
    }
   ],
   "source": [
    "import numpy as np\n",
    "import pygad\n",
    "\n",
    "# Combination of number of boards with the prices per board\n",
    "stack_prices = np.array(\n",
    "    [\n",
    "        [1, 10],  # $10 per board\n",
    "        [5, 5 * 9],  # $9 per board\n",
    "        [10, 10 * 8],  # $8 per board\n",
    "        [25, 25 * 7],  # $7 per board\n",
    "    ]\n",
    ")\n",
    "\n",
    "# The minimum number of boards to buy\n",
    "desired_boards = 67\n",
    "\n",
    "\n",
    "def fitness_function(solution: np.ndarray, solution_index):\n",
    "    # We can't have a negative number of boards\n",
    "    if (solution < 0).any():\n",
    "        return float('-inf')\n",
    "\n",
    "    # Make sure we have the minimum number of boards required\n",
    "    total_area = stack_prices[:, 0] * solution\n",
    "    if total_area.sum() < desired_boards:\n",
    "        return float('-inf')\n",
    "\n",
    "    # Calculate the price of the solution\n",
    "    price = stack_prices[:, 1] * solution\n",
    "    # The fitness function maximizes so invert the price\n",
    "    return - price.sum()\n",
    "\n",
    "\n",
    "def print_status(instance):\n",
    "    # Only print the status every 100 iterations\n",
    "    if instance.generations_completed % 100:\n",
    "        return\n",
    "\n",
    "    total = 0\n",
    "    solution = instance.best_solution()[0]\n",
    "    # Print the generation, bulk size and the total price\n",
    "    print(f'Generation {instance.generations_completed}', end=' ')\n",
    "    for mp, (boards, price) in zip(solution, stack_prices):\n",
    "        print(f'{mp:2d}x{boards},', end='')\n",
    "        total += mp * price\n",
    "    print(f' price: ${total}')\n",
    "\n",
    "\n",
    "ga_instance = pygad.GA(\n",
    "    num_generations=1000,\n",
    "    num_parents_mating=10,\n",
    "    # Every generation will have 100 solutions\n",
    "    sol_per_pop=100,\n",
    "    # We use 1 gene per stack size\n",
    "    num_genes=stack_prices.shape[0],\n",
    "    fitness_func=fitness_function,\n",
    "    on_generation=print_status,\n",
    "    # We can't buy half a board, so use integers\n",
    "    gene_type=int,\n",
    "    # Limit the solution space to our maximum number of boards\n",
    "    gene_space=np.arange(desired_boards),\n",
    "    # Limit how large the change in a mutation can be\n",
    "    random_mutation_min_val=-2,\n",
    "    random_mutation_max_val=2,\n",
    "    # Disable crossover since it does not make sense in this case\n",
    "    crossover_probability=0,\n",
    "    # Set the number of genes that are allowed to mutate at once\n",
    "    mutation_num_genes=stack_prices.shape[0] // 2,\n",
    ")\n",
    "\n",
    "ga_instance.run()\n",
    "ga_instance.plot_fitness()\n"
   ]
  }
 ],
 "metadata": {
  "kernelspec": {
   "display_name": "Python 3 (ipykernel)",
   "language": "python",
   "name": "python3"
  },
  "language_info": {
   "codemirror_mode": {
    "name": "ipython",
    "version": 3
   },
   "file_extension": ".py",
   "mimetype": "text/x-python",
   "name": "python",
   "nbconvert_exporter": "python",
   "pygments_lexer": "ipython3",
   "version": "3.9.12"
  }
 },
 "nbformat": 4,
 "nbformat_minor": 1
}
